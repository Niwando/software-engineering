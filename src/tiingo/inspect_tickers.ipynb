{
 "cells": [
  {
   "cell_type": "markdown",
   "metadata": {},
   "source": [
    "# Inspection of the Tickers"
   ]
  },
  {
   "cell_type": "markdown",
   "metadata": {},
   "source": [
    "#### The purpose of this notebook is to explore the availaible tickers and the underlying data"
   ]
  },
  {
   "cell_type": "code",
   "execution_count": 3,
   "metadata": {},
   "outputs": [],
   "source": [
    "# required libaries\n",
    "import pandas as pd\n",
    "import numpy as np"
   ]
  },
  {
   "cell_type": "code",
   "execution_count": 4,
   "metadata": {},
   "outputs": [
    {
     "name": "stdout",
     "output_type": "stream",
     "text": [
      "   ticker exchange assetType priceCurrency   startDate     endDate\n",
      "0    -P-H     NYSE     Stock           USD         NaN         NaN\n",
      "1    -P-S     NYSE     Stock           USD  2018-08-22  2023-05-05\n",
      "2  000001      SHE     Stock           CNY  2007-01-04  2025-01-22\n",
      "3  000002      SHE     Stock           CNY  2007-01-04  2025-01-22\n",
      "4  000003      SHE     Stock           CNY         NaN         NaN\n"
     ]
    }
   ],
   "source": [
    "# load the csv file\n",
    "df = pd.read_csv('supported_tickers.csv')\n",
    "\n",
    "# display the head\n",
    "print(df.head())"
   ]
  },
  {
   "cell_type": "code",
   "execution_count": 5,
   "metadata": {},
   "outputs": [
    {
     "name": "stdout",
     "output_type": "stream",
     "text": [
      "<class 'pandas.core.frame.DataFrame'>\n",
      "RangeIndex: 119984 entries, 0 to 119983\n",
      "Data columns (total 6 columns):\n",
      " #   Column         Non-Null Count   Dtype \n",
      "---  ------         --------------   ----- \n",
      " 0   ticker         119983 non-null  object\n",
      " 1   exchange       116765 non-null  object\n",
      " 2   assetType      119984 non-null  object\n",
      " 3   priceCurrency  119984 non-null  object\n",
      " 4   startDate      96931 non-null   object\n",
      " 5   endDate        96931 non-null   object\n",
      "dtypes: object(6)\n",
      "memory usage: 5.5+ MB\n"
     ]
    }
   ],
   "source": [
    "df.info()"
   ]
  },
  {
   "cell_type": "code",
   "execution_count": 7,
   "metadata": {},
   "outputs": [
    {
     "name": "stdout",
     "output_type": "stream",
     "text": [
      "Total NaN count: 49326\n"
     ]
    }
   ],
   "source": [
    "total_nan_count = df.isna().sum().sum()\n",
    "print('Total NaN count:', total_nan_count)"
   ]
  },
  {
   "cell_type": "markdown",
   "metadata": {},
   "source": [
    "Apple (AAPL) – Leader in technology and consumer products.\n",
    "Microsoft (MSFT) – Dominates in software and AI with strong investments in OpenAI.\n",
    "NVIDIA (NVDA) – Pioneering in GPUs and AI hardware.\n",
    "Tesla (TSLA) – Innovating in EVs and renewable energy solutions.\n",
    "Amazon (AMZN) – E-commerce giant with dominant AWS cloud services.\n",
    "Alphabet (GOOGL) – AI, search, and digital advertising powerhouse.\n",
    "Meta Platforms (META) – Investing heavily in social media and the metaverse.\n",
    "Netflix (NFLX) – Leader in streaming entertainment with global reach.\n",
    "Broadcom (AVGO) – Major player in semiconductors and enterprise software.\n",
    "PayPal (PYPL) – Innovator in digital payments and fintech solutions."
   ]
  },
  {
   "cell_type": "code",
   "execution_count": 14,
   "metadata": {},
   "outputs": [],
   "source": [
    "# create sub sets of the 10 selected tickers\n",
    "apple = df[df['ticker'] == 'AAPL']\n",
    "microsoft = df[df['ticker'] == 'MSFT']\n",
    "nvidia = df[df['ticker'] == 'NVDA']\n",
    "tesla = df[df['ticker'] == 'TSLA']\n",
    "amazon = df[df['ticker'] == 'AMZN']\n",
    "alphabet = df[df['ticker'] == 'GOOGL']\n",
    "meta = df[df['ticker'] == 'META']\n",
    "netflix = df[df['ticker'] == 'NFLX']\n",
    "broadcom = df[df['ticker'] == 'AVGO']\n",
    "paypal = df[df['ticker'] == 'PYPL']"
   ]
  },
  {
   "cell_type": "code",
   "execution_count": 20,
   "metadata": {},
   "outputs": [
    {
     "name": "stdout",
     "output_type": "stream",
     "text": [
      "Apple stock data:\n",
      "      ticker exchange assetType priceCurrency   startDate     endDate\n",
      "6914   AAPL   NASDAQ     Stock           USD  1980-12-12  2025-01-22\n",
      "\n",
      "Microsoft stock data:\n",
      "       ticker exchange assetType priceCurrency   startDate     endDate\n",
      "76264   MSFT   NASDAQ     Stock           USD  1986-03-13  2025-01-22\n",
      "\n",
      "Nvidia stock data:\n",
      "       ticker exchange assetType priceCurrency   startDate     endDate\n",
      "81082   NVDA   NASDAQ     Stock           USD  1999-01-22  2025-01-22\n",
      "\n",
      "Tesla stock data:\n",
      "        ticker exchange assetType priceCurrency   startDate     endDate\n",
      "109382   TSLA   NASDAQ     Stock           USD  2010-06-29  2025-01-22\n",
      "\n",
      "Amazon stock data:\n",
      "       ticker exchange assetType priceCurrency   startDate     endDate\n",
      "11272   AMZN   NASDAQ     Stock           USD  1997-05-15  2025-01-22\n",
      "\n",
      "Alphabet stock data:\n",
      "       ticker exchange assetType priceCurrency   startDate     endDate\n",
      "51239  GOOGL   NASDAQ     Stock           USD  2004-08-19  2025-01-22\n",
      "\n",
      "Meta stock data:\n",
      "       ticker exchange assetType priceCurrency   startDate     endDate\n",
      "72769   META   NASDAQ     Stock           USD  2012-05-18  2025-01-22\n",
      "72770   META      NaN       ETF           USD         NaN         NaN\n",
      "\n",
      "Netflix stock data:\n",
      "       ticker exchange assetType priceCurrency   startDate     endDate\n",
      "78940   NFLX   NASDAQ     Stock           USD  2002-05-23  2025-01-22\n",
      "\n",
      "Broadcom stock data:\n",
      "       ticker exchange assetType priceCurrency   startDate     endDate\n",
      "14181   AVGO   NASDAQ     Stock           USD  2009-08-06  2025-01-22\n",
      "\n",
      "Paypal stock data:\n",
      "       ticker exchange assetType priceCurrency   startDate     endDate\n",
      "90913   PYPL   NASDAQ     Stock           USD  2015-07-20  2025-01-22\n"
     ]
    }
   ],
   "source": [
    "# display the stock data and check for missing values\n",
    "print('Apple stock data:\\n', apple)\n",
    "print('\\nMicrosoft stock data:\\n', microsoft)\n",
    "print('\\nNvidia stock data:\\n', nvidia)\n",
    "print('\\nTesla stock data:\\n', tesla)\n",
    "print('\\nAmazon stock data:\\n', amazon)\n",
    "print('\\nAlphabet stock data:\\n', alphabet)\n",
    "print('\\nMeta stock data:\\n', meta)\n",
    "print('\\nNetflix stock data:\\n', netflix)\n",
    "print('\\nBroadcom stock data:\\n', broadcom)\n",
    "print('\\nPaypal stock data:\\n', paypal)"
   ]
  },
  {
   "cell_type": "markdown",
   "metadata": {},
   "source": [
    "From this output we will use the startDate to derive our data in the next notebook \"collect_data.ipynb\"."
   ]
  },
  {
   "cell_type": "markdown",
   "metadata": {},
   "source": []
  }
 ],
 "metadata": {
  "kernelspec": {
   "display_name": "Python 3",
   "language": "python",
   "name": "python3"
  },
  "language_info": {
   "codemirror_mode": {
    "name": "ipython",
    "version": 3
   },
   "file_extension": ".py",
   "mimetype": "text/x-python",
   "name": "python",
   "nbconvert_exporter": "python",
   "pygments_lexer": "ipython3",
   "version": "3.11.8"
  }
 },
 "nbformat": 4,
 "nbformat_minor": 2
}
