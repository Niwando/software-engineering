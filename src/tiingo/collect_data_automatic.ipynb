{
 "cells": [
  {
   "cell_type": "markdown",
   "metadata": {},
   "source": [
    "# Automatic Data Collection"
   ]
  },
  {
   "cell_type": "code",
   "execution_count": null,
   "metadata": {},
   "outputs": [],
   "source": [
    "# required libaries\n",
    "import requests\n",
    "import json\n",
    "from datetime import datetime, timedelta\n",
    "import pytz"
   ]
  },
  {
   "cell_type": "code",
   "execution_count": null,
   "metadata": {},
   "outputs": [],
   "source": [
    "# advanced function to fetch data automatically during market hours\n",
    "def fetch_ticker_data(ticker, start_date, token):\n",
    "    base_url = f\"https://api.tiingo.com/tiingo/daily/{ticker}/prices\"\n",
    "    params = {\n",
    "        \"startDate\": start_date,\n",
    "        \"token\": token\n",
    "    }\n",
    "    headers = {\n",
    "        \"Content-Type\": \"application/json\"\n",
    "    }\n",
    "    response = requests.get(base_url, headers=headers, params=params)\n",
    "    \n",
    "    # check for errors\n",
    "    if response.status_code != 200:\n",
    "        print(f\"Failed to fetch data for {ticker}: {response.status_code}\")\n",
    "        return None\n",
    "\n",
    "    # save data to a json file\n",
    "    try:\n",
    "        data = response.json()\n",
    "        with open(f\"data/{ticker}.json\", \"w\") as file:\n",
    "            json.dump(data, file, indent=4)\n",
    "        print(f\"Data for {ticker} saved to data/{ticker}.json\")\n",
    "    except Exception as e:\n",
    "        print(f\"Error saving data for {ticker}: {e}\")\n",
    "\n",
    "# dictionary with specific start dates for each ticker\n",
    "ticker_start_dates = {\n",
    "    \"aapl\": \"1980-12-12\",\n",
    "    \"msft\": \"1986-03-13\",\n",
    "    \"nvda\": \"1999-01-22\",\n",
    "    \"tsla\": \"2010-06-29\",\n",
    "    \"amzn\": \"1997-05-15\",\n",
    "    \"googl\": \"2004-08-19\",\n",
    "    \"meta\": \"2012-05-18\",\n",
    "    \"nflx\": \"2002-05-23\",\n",
    "    \"avgo\": \"2009-08-06\",\n",
    "    \"pypl\": \"2015-07-20\"\n",
    "}\n",
    "\n",
    "# API token\n",
    "token = \"xxxxxxxxxxxxxxx\"\n",
    "\n",
    "# time period configuration\n",
    "start_time = datetime.now(pytz.timezone('US/Eastern')).replace(hour=9, minute=30, second=0, microsecond=0)\n",
    "end_time = datetime.now(pytz.timezone('US/Eastern')).replace(hour=16, minute=0, second=0, microsecond=0)\n",
    "\n",
    "# loop to fetch data during market hours\n",
    "while True:\n",
    "    current_time = datetime.now(pytz.timezone('US/Eastern'))\n",
    "\n",
    "    # check if within the specified time period\n",
    "    if start_time <= current_time <= end_time:\n",
    "        # fetch data for each ticker\n",
    "        for ticker, start_date in ticker_start_dates.items():\n",
    "            fetch_ticker_data(ticker, start_date, token)\n",
    "\n",
    "        # wait for 12 seconds before the next iteration (avoids hitting the api rate limit)\n",
    "        time.sleep(12)\n",
    "    else:\n",
    "        # if outside market hours, wait until the next day\n",
    "        print(\"Outside market hours. Waiting for the next market open...\")\n",
    "        time_to_wait = (start_time + timedelta(days=1) - current_time).total_seconds()\n",
    "        time.sleep(max(time_to_wait, 0))\n"
   ]
  }
 ],
 "metadata": {
  "kernelspec": {
   "display_name": "Python 3",
   "language": "python",
   "name": "python3"
  },
  "language_info": {
   "name": "python",
   "version": "3.11.8"
  }
 },
 "nbformat": 4,
 "nbformat_minor": 2
}
