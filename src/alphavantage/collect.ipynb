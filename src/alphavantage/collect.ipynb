{
 "cells": [
  {
   "cell_type": "markdown",
   "metadata": {},
   "source": [
    "# Data Collection"
   ]
  },
  {
   "cell_type": "code",
   "execution_count": 1,
   "metadata": {},
   "outputs": [],
   "source": [
    "# necesary libaries\n",
    "import os\n",
    "import requests\n",
    "import json\n",
    "import pandas as pd\n",
    "import numpy as np\n",
    "import matplotlib.pyplot as plt"
   ]
  },
  {
   "cell_type": "code",
   "execution_count": 12,
   "metadata": {},
   "outputs": [
    {
     "data": {
      "text/plain": [
       "'\\nAAPL (x)\\nMSFT (x)\\nNVDA (x)\\nTSLA (x)\\nAMZN (x)\\nGOOGL(x)\\nMETA (x)\\nNFLX (x)\\nAVGO (x)\\nPYPL (x)\\n########################\\nD3WKQGJTAEZJSVBI\\n06A01LG2SY1LPGZR\\n74YIU0Z0R212JU1U\\nRCTGBMNJ4NOF8IFN\\n'"
      ]
     },
     "execution_count": 12,
     "metadata": {},
     "output_type": "execute_result"
    }
   ],
   "source": [
    "'''\n",
    "AAPL (x)\n",
    "MSFT (x)\n",
    "NVDA (x)\n",
    "TSLA (x)\n",
    "AMZN (x)\n",
    "GOOGL(x)\n",
    "META (x)\n",
    "NFLX (x)\n",
    "AVGO (x)\n",
    "PYPL (x)\n",
    "########################\n",
    "D3WKQGJTAEZJSVBI\n",
    "06A01LG2SY1LPGZR\n",
    "74YIU0Z0R212JU1U\n",
    "RCTGBMNJ4NOF8IFN\n",
    "'''"
   ]
  },
  {
   "cell_type": "markdown",
   "metadata": {},
   "source": [
    "## Fetch Data for 2024 and Jan. 2025"
   ]
  },
  {
   "cell_type": "code",
   "execution_count": 11,
   "metadata": {},
   "outputs": [
    {
     "name": "stdout",
     "output_type": "stream",
     "text": [
      "Data for PYPL (2025-01) saved to data/PYPL_2025-01.json\n"
     ]
    }
   ],
   "source": [
    "# Function to fetch and save data for a specific symbol and month\n",
    "def fetch_and_save_data(symbol, month, api_key):\n",
    "    url = f'https://www.alphavantage.co/query?function=TIME_SERIES_INTRADAY&symbol={symbol}&interval=1min&month={month}&outputsize=full&apikey={api_key}'\n",
    "    \n",
    "    try:\n",
    "        response = requests.get(url)\n",
    "        response.raise_for_status()  # Check if the request was successful\n",
    "        \n",
    "        # Attempt to parse and save the data\n",
    "        try:\n",
    "            data = response.json()\n",
    "            \n",
    "            # Ensure the 'data' directory exists\n",
    "            directory = 'data'\n",
    "            if not os.path.exists(directory):\n",
    "                os.makedirs(directory)\n",
    "            \n",
    "            # Save the JSON file\n",
    "            file_path = os.path.join(directory, f\"{symbol}_{month}.json\")\n",
    "            with open(file_path, \"w\") as file:\n",
    "                json.dump(data, file, indent=4)\n",
    "            \n",
    "            print(f\"Data for {symbol} ({month}) saved to {file_path}\")\n",
    "        \n",
    "        except Exception as e:\n",
    "            print(f\"Error saving data for {symbol} ({month}): {e}\")\n",
    "    \n",
    "    except requests.exceptions.RequestException as req_err:\n",
    "        print(f\"HTTP request failed for {symbol} ({month}): {req_err}\")\n",
    "\n",
    "# Replace with your API key and desired symbol\n",
    "api_key = \"D3WKQGJTAEZJSVBI\"\n",
    "symbol = \"PYPL\"\n",
    "\n",
    "# List of months for which data is to be fetched\n",
    "# months = [\n",
    "#     '2024-01', '2024-02', '2024-03', '2024-04', '2024-05', \n",
    "#     '2024-06', '2024-07', '2024-08', '2024-09', '2024-10', \n",
    "#     '2024-11', '2024-12'\n",
    "# ]\n",
    "\n",
    "months = ['2025-01']\n",
    "\n",
    "# Fetch and save data for each month\n",
    "for month in months:\n",
    "    fetch_and_save_data(symbol, month, api_key)\n"
   ]
  }
 ],
 "metadata": {
  "kernelspec": {
   "display_name": "Python 3",
   "language": "python",
   "name": "python3"
  },
  "language_info": {
   "codemirror_mode": {
    "name": "ipython",
    "version": 3
   },
   "file_extension": ".py",
   "mimetype": "text/x-python",
   "name": "python",
   "nbconvert_exporter": "python",
   "pygments_lexer": "ipython3",
   "version": "3.11.8"
  }
 },
 "nbformat": 4,
 "nbformat_minor": 2
}
